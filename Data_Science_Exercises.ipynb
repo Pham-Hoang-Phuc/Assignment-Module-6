{
 "cells": [
  {
   "cell_type": "markdown",
   "metadata": {},
   "source": [
    "# Project Module 6"
   ]
  },
  {
   "cell_type": "markdown",
   "metadata": {},
   "source": [
    "This notebook provides an overview of various tools, languages, and libraries used in Data Science.\n"
   ]
  },
  {
   "cell_type": "markdown",
   "metadata": {},
   "source": [
    "## Data Science Languages\n",
    "    - Python\n",
    "    - R\n",
    "    - SQL\n",
    "    - Java\n",
    "    - Scala\n",
    "    - C++\n",
    "    - Julia\n",
    "    - JavaScript"
   ]
  },
  {
   "cell_type": "markdown",
   "metadata": {},
   "source": [
    "## Data Science Libraries\n",
    "    - Pandas\n",
    "    - NumPy\n",
    "    - SciPy\n",
    "    - Matplotlib\n",
    "    - Seaborn\n",
    "    - Scikit-learn\n",
    "    - TensorFlow\n",
    "    - Keras\n",
    "    - PyTorch"
   ]
  },
  {
   "cell_type": "markdown",
   "metadata": {},
   "source": [
    "## Data Science Tools\n",
    "    | Tool Name | Category |\n",
    "    |-----------|----------|\n",
    "    | Jupyter Notebook | Development Environment |\n",
    "    | RStudio | Development Environment |\n",
    "    | Apache Spark | Big Data Processing |\n",
    "    | TensorFlow | Machine Learning |\n",
    "    | PyTorch | Deep Learning |\n",
    "    | Tableau | Data Visualization |\n",
    "    | Power BI | Data Visualization |"
   ]
  },
  {
   "cell_type": "markdown",
   "metadata": {},
   "source": [
    "## Arithmetic Expression Examples\n",
    "Below are some examples of arithmetic expressions in Python"
   ]
  },
  {
   "cell_type": "code",
   "execution_count": 6,
   "metadata": {},
   "outputs": [
    {
     "name": "stdout",
     "output_type": "stream",
     "text": [
      "7\n"
     ]
    }
   ],
   "source": [
    "a = 5\n",
    "b = 2\n",
    "print(a + b)"
   ]
  },
  {
   "cell_type": "code",
   "execution_count": null,
   "metadata": {},
   "outputs": [
    {
     "name": "stdout",
     "output_type": "stream",
     "text": [
      "3.3333333333333335\n"
     ]
    }
   ],
   "source": [
    "minutes = 200\n",
    "hour = minutes / 60\n",
    "print(hour)"
   ]
  },
  {
   "cell_type": "markdown",
   "metadata": {},
   "source": [
    "## Objectives\n",
    "    - List popular Data Science languages\n",
    "    - List commonly used Data Science libraries\n",
    "    - Introduce common Data Science tools\n",
    "    - Demonstrate basic arithmetic operations in Python\n",
    "    - Convert time units in Python"
   ]
  },
  {
   "cell_type": "markdown",
   "metadata": {},
   "source": [
    "## Author\n",
    "**Pham Hoang Phuc**"
   ]
  }
 ],
 "metadata": {
  "kernelspec": {
   "display_name": "venv",
   "language": "python",
   "name": "python3"
  },
  "language_info": {
   "codemirror_mode": {
    "name": "ipython",
    "version": 3
   },
   "file_extension": ".py",
   "mimetype": "text/x-python",
   "name": "python",
   "nbconvert_exporter": "python",
   "pygments_lexer": "ipython3",
   "version": "3.12.3"
  }
 },
 "nbformat": 4,
 "nbformat_minor": 2
}
